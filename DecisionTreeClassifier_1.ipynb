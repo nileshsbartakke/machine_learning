{
 "cells": [
  {
   "cell_type": "code",
   "execution_count": 44,
   "metadata": {},
   "outputs": [
    {
     "name": "stdout",
     "output_type": "stream",
     "text": [
      "    age  gender      genre\n",
      "0    20       1     HipHop\n",
      "1    23       1     HipHop\n",
      "2    25       1     HipHop\n",
      "3    26       1       Jazz\n",
      "4    29       1       Jazz\n",
      "5    30       1       Jazz\n",
      "6    31       1  Classical\n",
      "7    33       1  Classical\n",
      "8    37       1  Classical\n",
      "9    20       0      Dance\n",
      "10   21       0      Dance\n",
      "11   25       0      Dance\n",
      "12   26       0   Acoustic\n",
      "13   27       0   Acoustic\n",
      "14   30       0   Acoustic\n",
      "15   31       0  Classical\n",
      "16   34       0  Classical\n",
      "17   35       0  Classical\n",
      "Descriptive Analysis\n",
      "             age     gender\n",
      "count  18.000000  18.000000\n",
      "mean   27.944444   0.500000\n",
      "std     5.127460   0.514496\n",
      "min    20.000000   0.000000\n",
      "25%    25.000000   0.000000\n",
      "50%    28.000000   0.500000\n",
      "75%    31.000000   1.000000\n",
      "max    37.000000   1.000000\n",
      "predictive\n",
      "                    Analysis\n",
      "Accuracy Of Model 100.0%\n"
     ]
    }
   ],
   "source": [
    "#Decision Tree Classifier\n",
    "import pandas as pd\n",
    "from sklearn.tree import DecisionTreeClassifier\n",
    "from sklearn.metrics import accuracy_score \n",
    "from sklearn.model_selection import train_test_split\n",
    "df=pd.read_csv('music.csv')\n",
    "print(df)\n",
    "print('Descriptive Analysis')\n",
    "print(df.describe())\n",
    "X=df.drop(columns=['genre'])\n",
    "y=df['genre']\n",
    "model=DecisionTreeClassifier()\n",
    "X_train,X_test,y_train,y_test=train_test_split(X,y,test_size=0.2)\n",
    "model.fit(X_train,y_train)\n",
    "prediction=model.predict(X_test)\n",
    "score=accuracy_score(y_test,prediction)\n",
    "print(\"\"\"predictive\n",
    "                    Analysis\"\"\")\n",
    "print('Accuracy Of Model {}%'.format(score*100))\n"
   ]
  },
  {
   "cell_type": "code",
   "execution_count": null,
   "metadata": {},
   "outputs": [],
   "source": []
  }
 ],
 "metadata": {
  "kernelspec": {
   "display_name": "Python 3",
   "language": "python",
   "name": "python3"
  },
  "language_info": {
   "codemirror_mode": {
    "name": "ipython",
    "version": 3
   },
   "file_extension": ".py",
   "mimetype": "text/x-python",
   "name": "python",
   "nbconvert_exporter": "python",
   "pygments_lexer": "ipython3",
   "version": "3.7.1"
  }
 },
 "nbformat": 4,
 "nbformat_minor": 2
}
